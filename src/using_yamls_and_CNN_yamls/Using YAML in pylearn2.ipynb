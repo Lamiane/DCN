{
 "metadata": {
  "name": "",
  "signature": "sha256:1edb3c537e5dc9640c5b4641fa8fe9ec9c532279aa0bbe5c6ed306a4231221bc"
 },
 "nbformat": 3,
 "nbformat_minor": 0,
 "worksheets": [
  {
   "cells": [
    {
     "cell_type": "code",
     "collapsed": false,
     "input": [
      "# Some useful imports\n",
      "from pylearn2.config import yaml_parse\n",
      "from os import getcwd\n",
      "from pickle import load as pload\n",
      "from pickle import dump as pdump\n",
      "print 'Done'"
     ],
     "language": "python",
     "metadata": {},
     "outputs": [
      {
       "output_type": "stream",
       "stream": "stdout",
       "text": [
        "Done\n"
       ]
      }
     ],
     "prompt_number": 1
    },
    {
     "cell_type": "heading",
     "level": 6,
     "metadata": {},
     "source": [
      "Retrieving object from a yaml file"
     ]
    },
    {
     "cell_type": "code",
     "collapsed": false,
     "input": [
      "# opening the yaml file and copying its content to train\n",
      "# train will be a string\n",
      "with open('simple_yaml.yaml') as f:\n",
      "    train = f.read()\n",
      "\n",
      "# now this is a trick. The code in *.yaml file wasn't a proper yaml code.\n",
      "# it contained something like that: '%(name)i' inside.\n",
      "# This trick allows us to reuse one yaml file in plenty of slightly different experiments.\n",
      "# Now we need to put something more useful instead.\n",
      "\n",
      "# defining some hyperparams.\n",
      "SAVE_PATH = getcwd() # get current working directory. Here the learned model will be saved\n",
      "hyper_params = {'train_stop': 50,\n",
      "                    'valid_stop': 50050,\n",
      "                    'dim_h0': 5,\n",
      "                    'max_epochs': 1,\n",
      "                    'save_path': SAVE_PATH}\n",
      "\n",
      "# updating the train with our hyperparams\n",
      "train = train % hyper_params\n",
      "# if you'd print train now you'll see a valid yaml code\n",
      "# print train\n",
      "\n",
      "\n",
      "# this will change train, which is currently a string, into an object\n",
      "# that it describes \n",
      "train = yaml_parse.load(train)\n",
      "\n",
      "print 'Done'\n"
     ],
     "language": "python",
     "metadata": {},
     "outputs": [
      {
       "output_type": "stream",
       "stream": "stdout",
       "text": [
        "Done\n"
       ]
      }
     ],
     "prompt_number": 2
    },
    {
     "cell_type": "heading",
     "level": 6,
     "metadata": {},
     "source": [
      "Training a model"
     ]
    },
    {
     "cell_type": "code",
     "collapsed": false,
     "input": [
      "# let's train our model! (Hopefully you have MNIST data stored in PYLEARN_DATA_PATH somewhere...)\n",
      "# this might take a minute. Or two... And it will produce hell of an output\n",
      "train.main_loop()\n",
      "print 'Done'"
     ],
     "language": "python",
     "metadata": {},
     "outputs": []
    },
    {
     "cell_type": "heading",
     "level": 6,
     "metadata": {},
     "source": [
      "Retrieving object from a pkl file"
     ]
    },
    {
     "cell_type": "code",
     "collapsed": false,
     "input": [
      "# now the line above has created a mlp_best.pkl Let's check it out!\n",
      "# The name of the file that is created is given at the end of the yaml file\n",
      "# in extensions. If you want to store data of more experiments remember to use \n",
      "# the trick described above and make the file_name a hyperparameter\n",
      "# in order not to overwrite your data.\n",
      "with open(\"mlp_best.pkl\") as f:\n",
      "    best = pload(f) # from pickle import load as pload\n",
      "\n",
      "# As you see the object pickled is a learned model.\n",
      "print type(best), '\\n'\n",
      "\n",
      "# Let's check what it has inside.\n",
      "#print dir(best), '\\n'\n",
      "\n",
      "print best.get_params(), '\\n'\n",
      "\n",
      "for layer in best.layers:\n",
      "    print layer.layer_name"
     ],
     "language": "python",
     "metadata": {},
     "outputs": [
      {
       "output_type": "stream",
       "stream": "stdout",
       "text": [
        "Done\n"
       ]
      }
     ],
     "prompt_number": 11
    },
    {
     "cell_type": "heading",
     "level": 6,
     "metadata": {},
     "source": [
      "Storing your data in a pickle file"
     ]
    },
    {
     "cell_type": "code",
     "collapsed": false,
     "input": [
      "with open('pickle_dump.pkl', 'w') as pd:\n",
      "    pdump(best.layers, pd)\n",
      "print 'Done'"
     ],
     "language": "python",
     "metadata": {},
     "outputs": [
      {
       "output_type": "stream",
       "stream": "stdout",
       "text": [
        "Done\n"
       ]
      }
     ],
     "prompt_number": 42
    },
    {
     "cell_type": "heading",
     "level": 6,
     "metadata": {},
     "source": [
      "Storing your data in a yaml"
     ]
    },
    {
     "cell_type": "code",
     "collapsed": false,
     "input": [
      "# You tell me!"
     ],
     "language": "python",
     "metadata": {},
     "outputs": []
    }
   ],
   "metadata": {}
  }
 ]
}